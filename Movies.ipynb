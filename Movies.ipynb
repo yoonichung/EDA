{
 "cells": [
  {
   "cell_type": "markdown",
   "metadata": {},
   "source": [
    "# Movies"
   ]
  },
  {
   "cell_type": "code",
   "execution_count": 2,
   "metadata": {},
   "outputs": [],
   "source": [
    "# import packages\n",
    "import pandas as pd\n",
    "import matplotlib.pyplot as plt\n",
    "%matplotlib inline\n",
    "import seaborn as sns\n",
    "import numpy as np\n",
    "import sklearn.cluster as clust\n",
    "from scipy.spatial.distance import cdist\n",
    "import os\n",
    "\n",
    "# to show multiple outputs per cell\n",
    "from IPython.core.interactiveshell import InteractiveShell\n",
    "InteractiveShell.ast_node_interactivity = \"all\""
   ]
  },
  {
   "cell_type": "code",
   "execution_count": 3,
   "metadata": {},
   "outputs": [],
   "source": [
    "# import data\n",
    "df = pd.read_excel('movies.xls',sheet_name = None)\n",
    "df_1950s = df['1900s']\n",
    "df_2000s = df['2000s']\n",
    "df_2010s = df['2010s']"
   ]
  },
  {
   "cell_type": "code",
   "execution_count": 4,
   "metadata": {},
   "outputs": [
    {
     "data": {
      "text/plain": [
       "(1338, 25)"
      ]
     },
     "execution_count": 4,
     "metadata": {},
     "output_type": "execute_result"
    },
    {
     "data": {
      "text/plain": [
       "(2100, 25)"
      ]
     },
     "execution_count": 4,
     "metadata": {},
     "output_type": "execute_result"
    },
    {
     "data": {
      "text/plain": [
       "(1604, 25)"
      ]
     },
     "execution_count": 4,
     "metadata": {},
     "output_type": "execute_result"
    }
   ],
   "source": [
    "# concatenate all into 1 dataframe\n",
    "# check all have 25 columns before concatenating\n",
    "df_1950s.shape\n",
    "df_2000s.shape\n",
    "df_2010s.shape"
   ]
  },
  {
   "cell_type": "code",
   "execution_count": 62,
   "metadata": {},
   "outputs": [
    {
     "data": {
      "text/plain": [
       "(5042, 25)"
      ]
     },
     "execution_count": 62,
     "metadata": {},
     "output_type": "execute_result"
    }
   ],
   "source": [
    "df_all = pd.concat([df_1950s, df_2000s, df_2010s]) # concatenate\n",
    "df_all.shape"
   ]
  },
  {
   "cell_type": "markdown",
   "metadata": {},
   "source": [
    "### Overview of the dataset"
   ]
  },
  {
   "cell_type": "code",
   "execution_count": 51,
   "metadata": {},
   "outputs": [
    {
     "data": {
      "text/html": [
       "<div>\n",
       "<style scoped>\n",
       "    .dataframe tbody tr th:only-of-type {\n",
       "        vertical-align: middle;\n",
       "    }\n",
       "\n",
       "    .dataframe tbody tr th {\n",
       "        vertical-align: top;\n",
       "    }\n",
       "\n",
       "    .dataframe thead th {\n",
       "        text-align: right;\n",
       "    }\n",
       "</style>\n",
       "<table border=\"1\" class=\"dataframe\">\n",
       "  <thead>\n",
       "    <tr style=\"text-align: right;\">\n",
       "      <th></th>\n",
       "      <th>Title</th>\n",
       "      <th>Year</th>\n",
       "      <th>Genres</th>\n",
       "      <th>Language</th>\n",
       "      <th>Country</th>\n",
       "      <th>Content Rating</th>\n",
       "      <th>Duration</th>\n",
       "      <th>Aspect Ratio</th>\n",
       "      <th>Budget</th>\n",
       "      <th>Gross Earnings</th>\n",
       "      <th>...</th>\n",
       "      <th>Facebook Likes - Actor 1</th>\n",
       "      <th>Facebook Likes - Actor 2</th>\n",
       "      <th>Facebook Likes - Actor 3</th>\n",
       "      <th>Facebook Likes - cast Total</th>\n",
       "      <th>Facebook likes - Movie</th>\n",
       "      <th>Facenumber in posters</th>\n",
       "      <th>User Votes</th>\n",
       "      <th>Reviews by Users</th>\n",
       "      <th>Reviews by Crtiics</th>\n",
       "      <th>IMDB Score</th>\n",
       "    </tr>\n",
       "  </thead>\n",
       "  <tbody>\n",
       "    <tr>\n",
       "      <th>0</th>\n",
       "      <td>Intolerance: Love's Struggle Throughout the Ages</td>\n",
       "      <td>1916.0</td>\n",
       "      <td>Drama|History|War</td>\n",
       "      <td>NaN</td>\n",
       "      <td>USA</td>\n",
       "      <td>Not Rated</td>\n",
       "      <td>123.0</td>\n",
       "      <td>1.33</td>\n",
       "      <td>385907.0</td>\n",
       "      <td>NaN</td>\n",
       "      <td>...</td>\n",
       "      <td>436.0</td>\n",
       "      <td>22.0</td>\n",
       "      <td>9.0</td>\n",
       "      <td>481</td>\n",
       "      <td>691</td>\n",
       "      <td>1.0</td>\n",
       "      <td>10718</td>\n",
       "      <td>88.0</td>\n",
       "      <td>69.0</td>\n",
       "      <td>8.0</td>\n",
       "    </tr>\n",
       "    <tr>\n",
       "      <th>1</th>\n",
       "      <td>Over the Hill to the Poorhouse</td>\n",
       "      <td>1920.0</td>\n",
       "      <td>Crime|Drama</td>\n",
       "      <td>NaN</td>\n",
       "      <td>USA</td>\n",
       "      <td>NaN</td>\n",
       "      <td>110.0</td>\n",
       "      <td>1.33</td>\n",
       "      <td>100000.0</td>\n",
       "      <td>3000000.0</td>\n",
       "      <td>...</td>\n",
       "      <td>2.0</td>\n",
       "      <td>2.0</td>\n",
       "      <td>0.0</td>\n",
       "      <td>4</td>\n",
       "      <td>0</td>\n",
       "      <td>1.0</td>\n",
       "      <td>5</td>\n",
       "      <td>1.0</td>\n",
       "      <td>1.0</td>\n",
       "      <td>4.8</td>\n",
       "    </tr>\n",
       "    <tr>\n",
       "      <th>2</th>\n",
       "      <td>The Big Parade</td>\n",
       "      <td>1925.0</td>\n",
       "      <td>Drama|Romance|War</td>\n",
       "      <td>NaN</td>\n",
       "      <td>USA</td>\n",
       "      <td>Not Rated</td>\n",
       "      <td>151.0</td>\n",
       "      <td>1.33</td>\n",
       "      <td>245000.0</td>\n",
       "      <td>NaN</td>\n",
       "      <td>...</td>\n",
       "      <td>81.0</td>\n",
       "      <td>12.0</td>\n",
       "      <td>6.0</td>\n",
       "      <td>108</td>\n",
       "      <td>226</td>\n",
       "      <td>0.0</td>\n",
       "      <td>4849</td>\n",
       "      <td>45.0</td>\n",
       "      <td>48.0</td>\n",
       "      <td>8.3</td>\n",
       "    </tr>\n",
       "    <tr>\n",
       "      <th>3</th>\n",
       "      <td>Metropolis</td>\n",
       "      <td>1927.0</td>\n",
       "      <td>Drama|Sci-Fi</td>\n",
       "      <td>German</td>\n",
       "      <td>Germany</td>\n",
       "      <td>Not Rated</td>\n",
       "      <td>145.0</td>\n",
       "      <td>1.33</td>\n",
       "      <td>6000000.0</td>\n",
       "      <td>26435.0</td>\n",
       "      <td>...</td>\n",
       "      <td>136.0</td>\n",
       "      <td>23.0</td>\n",
       "      <td>18.0</td>\n",
       "      <td>203</td>\n",
       "      <td>12000</td>\n",
       "      <td>1.0</td>\n",
       "      <td>111841</td>\n",
       "      <td>413.0</td>\n",
       "      <td>260.0</td>\n",
       "      <td>8.3</td>\n",
       "    </tr>\n",
       "    <tr>\n",
       "      <th>4</th>\n",
       "      <td>Pandora's Box</td>\n",
       "      <td>1929.0</td>\n",
       "      <td>Crime|Drama|Romance</td>\n",
       "      <td>German</td>\n",
       "      <td>Germany</td>\n",
       "      <td>Not Rated</td>\n",
       "      <td>110.0</td>\n",
       "      <td>1.33</td>\n",
       "      <td>NaN</td>\n",
       "      <td>9950.0</td>\n",
       "      <td>...</td>\n",
       "      <td>426.0</td>\n",
       "      <td>20.0</td>\n",
       "      <td>3.0</td>\n",
       "      <td>455</td>\n",
       "      <td>926</td>\n",
       "      <td>1.0</td>\n",
       "      <td>7431</td>\n",
       "      <td>84.0</td>\n",
       "      <td>71.0</td>\n",
       "      <td>8.0</td>\n",
       "    </tr>\n",
       "  </tbody>\n",
       "</table>\n",
       "<p>5 rows × 25 columns</p>\n",
       "</div>"
      ],
      "text/plain": [
       "                                               Title    Year  \\\n",
       "0  Intolerance: Love's Struggle Throughout the Ages   1916.0   \n",
       "1                    Over the Hill to the Poorhouse   1920.0   \n",
       "2                                    The Big Parade   1925.0   \n",
       "3                                        Metropolis   1927.0   \n",
       "4                                     Pandora's Box   1929.0   \n",
       "\n",
       "                Genres Language  Country Content Rating  Duration  \\\n",
       "0    Drama|History|War      NaN      USA      Not Rated     123.0   \n",
       "1          Crime|Drama      NaN      USA            NaN     110.0   \n",
       "2    Drama|Romance|War      NaN      USA      Not Rated     151.0   \n",
       "3         Drama|Sci-Fi   German  Germany      Not Rated     145.0   \n",
       "4  Crime|Drama|Romance   German  Germany      Not Rated     110.0   \n",
       "\n",
       "   Aspect Ratio     Budget  Gross Earnings  ... Facebook Likes - Actor 1  \\\n",
       "0          1.33   385907.0             NaN  ...                    436.0   \n",
       "1          1.33   100000.0       3000000.0  ...                      2.0   \n",
       "2          1.33   245000.0             NaN  ...                     81.0   \n",
       "3          1.33  6000000.0         26435.0  ...                    136.0   \n",
       "4          1.33        NaN          9950.0  ...                    426.0   \n",
       "\n",
       "  Facebook Likes - Actor 2 Facebook Likes - Actor 3  \\\n",
       "0                     22.0                      9.0   \n",
       "1                      2.0                      0.0   \n",
       "2                     12.0                      6.0   \n",
       "3                     23.0                     18.0   \n",
       "4                     20.0                      3.0   \n",
       "\n",
       "  Facebook Likes - cast Total  Facebook likes - Movie  Facenumber in posters  \\\n",
       "0                         481                     691                    1.0   \n",
       "1                           4                       0                    1.0   \n",
       "2                         108                     226                    0.0   \n",
       "3                         203                   12000                    1.0   \n",
       "4                         455                     926                    1.0   \n",
       "\n",
       "   User Votes  Reviews by Users  Reviews by Crtiics  IMDB Score  \n",
       "0       10718              88.0                69.0         8.0  \n",
       "1           5               1.0                 1.0         4.8  \n",
       "2        4849              45.0                48.0         8.3  \n",
       "3      111841             413.0               260.0         8.3  \n",
       "4        7431              84.0                71.0         8.0  \n",
       "\n",
       "[5 rows x 25 columns]"
      ]
     },
     "execution_count": 51,
     "metadata": {},
     "output_type": "execute_result"
    }
   ],
   "source": [
    "df_all.head()"
   ]
  },
  {
   "cell_type": "code",
   "execution_count": 52,
   "metadata": {},
   "outputs": [
    {
     "name": "stdout",
     "output_type": "stream",
     "text": [
      "<class 'pandas.core.frame.DataFrame'>\n",
      "Int64Index: 5042 entries, 0 to 1603\n",
      "Data columns (total 25 columns):\n",
      "Title                          5042 non-null object\n",
      "Year                           4935 non-null float64\n",
      "Genres                         5042 non-null object\n",
      "Language                       5031 non-null object\n",
      "Country                        5038 non-null object\n",
      "Content Rating                 4740 non-null object\n",
      "Duration                       5028 non-null float64\n",
      "Aspect Ratio                   4714 non-null float64\n",
      "Budget                         4551 non-null float64\n",
      "Gross Earnings                 4159 non-null float64\n",
      "Director                       4938 non-null object\n",
      "Actor 1                        5035 non-null object\n",
      "Actor 2                        5029 non-null object\n",
      "Actor 3                        5020 non-null object\n",
      "Facebook Likes - Director      4938 non-null float64\n",
      "Facebook Likes - Actor 1       5035 non-null float64\n",
      "Facebook Likes - Actor 2       5029 non-null float64\n",
      "Facebook Likes - Actor 3       5020 non-null float64\n",
      "Facebook Likes - cast Total    5042 non-null int64\n",
      "Facebook likes - Movie         5042 non-null int64\n",
      "Facenumber in posters          5029 non-null float64\n",
      "User Votes                     5042 non-null int64\n",
      "Reviews by Users               5022 non-null float64\n",
      "Reviews by Crtiics             4993 non-null float64\n",
      "IMDB Score                     5042 non-null float64\n",
      "dtypes: float64(13), int64(3), object(9)\n",
      "memory usage: 1.0+ MB\n"
     ]
    }
   ],
   "source": [
    "df_all.info()"
   ]
  },
  {
   "cell_type": "markdown",
   "metadata": {},
   "source": [
    "### Pre-processing\n",
    "#### A couple things to check\n",
    "- are all film titles unique?\n",
    "- missing values? \n",
    "- are all columns in correct data type?\n",
    "    - year: should be int instead of float\n",
    "    - all FB likes: should be in int instead of float\n",
    "    - need to change all object types to category\n"
   ]
  },
  {
   "cell_type": "code",
   "execution_count": 68,
   "metadata": {},
   "outputs": [
    {
     "name": "stdout",
     "output_type": "stream",
     "text": [
      "<class 'pandas.core.frame.DataFrame'>\n",
      "Int64Index: 5042 entries, 0 to 1603\n",
      "Data columns (total 25 columns):\n",
      "Title                          5042 non-null category\n",
      "Year                           4935 non-null float64\n",
      "Genres                         5042 non-null category\n",
      "Language                       5031 non-null category\n",
      "Country                        5038 non-null category\n",
      "Content Rating                 4740 non-null category\n",
      "Duration                       5028 non-null float64\n",
      "Aspect Ratio                   4714 non-null float64\n",
      "Budget                         4551 non-null float64\n",
      "Gross Earnings                 4159 non-null float64\n",
      "Director                       4938 non-null category\n",
      "Actor 1                        5035 non-null category\n",
      "Actor 2                        5029 non-null category\n",
      "Actor 3                        5020 non-null category\n",
      "Facebook Likes - Director      4938 non-null float64\n",
      "Facebook Likes - Actor 1       5035 non-null float64\n",
      "Facebook Likes - Actor 2       5029 non-null float64\n",
      "Facebook Likes - Actor 3       5020 non-null float64\n",
      "Facebook Likes - cast Total    5042 non-null int64\n",
      "Facebook likes - Movie         5042 non-null int64\n",
      "Facenumber in posters          5029 non-null float64\n",
      "User Votes                     5042 non-null int64\n",
      "Reviews by Users               5022 non-null float64\n",
      "Reviews by Crtiics             4993 non-null float64\n",
      "IMDB Score                     5042 non-null float64\n",
      "dtypes: category(9), float64(13), int64(3)\n",
      "memory usage: 1.4 MB\n"
     ]
    }
   ],
   "source": [
    "# change all object types to category\n",
    "df_all[df_all.select_dtypes(include=['object']).columns] = df_all.select_dtypes(include=['object']).astype('category')\n",
    "df_all.info()"
   ]
  },
  {
   "cell_type": "code",
   "execution_count": 70,
   "metadata": {},
   "outputs": [
    {
     "data": {
      "text/plain": [
       "Ben-Hur                                      3\n",
       "Halloween                                    3\n",
       "Victor Frankenstein                          3\n",
       "The Fast and the Furious                     3\n",
       "Pan                                          3\n",
       "Home                                         3\n",
       "King Kong                                    3\n",
       "Jack Reacher                                 2\n",
       "Side Effects                                 2\n",
       "The Texas Chain Saw Massacre                 2\n",
       "The Omen                                     2\n",
       "Conan the Barbarian                          2\n",
       "A Nightmare on Elm Street                    2\n",
       "Footloose                                    2\n",
       "Unknown                                      2\n",
       "The Avengers                                 2\n",
       "Dredd                                        2\n",
       "RoboCop                                      2\n",
       "Chasing Liberty                              2\n",
       "The Alamo                                    2\n",
       "The Love Letter                              2\n",
       "The Astronaut's Wife                         2\n",
       "Across the Universe                          2\n",
       "Dekalog                                      2\n",
       "First Blood                                  2\n",
       "Eddie the Eagle                              2\n",
       "Cat People                                   2\n",
       "Hamlet                                       2\n",
       "Death at a Funeral                           2\n",
       "Ghostbusters                                 2\n",
       "                                            ..\n",
       "Spanglish                                    1\n",
       "Sparkler                                     1\n",
       "Sparkle                                      1\n",
       "Spartacus: War of the Damned                 1\n",
       "Spawn                                        1\n",
       "Special                                      1\n",
       "Species                                      1\n",
       "Spectre                                      1\n",
       "Speed 2: Cruise Control                      1\n",
       "Speed Racer                                  1\n",
       "Speedway Junky                               1\n",
       "Space Dogs                                   1\n",
       "Space Cowboys                                1\n",
       "Space Chimps                                 1\n",
       "Soul Plane                                   1\n",
       "Sorcerer                                     1\n",
       "Sorority Boys                                1\n",
       "Sorority Row                                 1\n",
       "Soul Food                                    1\n",
       "Soul Kitchen                                 1\n",
       "Soul Men                                     1\n",
       "Soul Surfer                                  1\n",
       "Space Battleship Yamato                      1\n",
       "Soul Survivors                               1\n",
       "Sound of My Voice                            1\n",
       "Source Code                                  1\n",
       "South Park: Bigger Longer & Uncut            1\n",
       "Southland Tales                              1\n",
       "Southpaw                                     1\n",
       "#Horror                                      1\n",
       "Name: Title, Length: 4916, dtype: int64"
      ]
     },
     "execution_count": 70,
     "metadata": {},
     "output_type": "execute_result"
    },
    {
     "data": {
      "text/html": [
       "<div>\n",
       "<style scoped>\n",
       "    .dataframe tbody tr th:only-of-type {\n",
       "        vertical-align: middle;\n",
       "    }\n",
       "\n",
       "    .dataframe tbody tr th {\n",
       "        vertical-align: top;\n",
       "    }\n",
       "\n",
       "    .dataframe thead th {\n",
       "        text-align: right;\n",
       "    }\n",
       "</style>\n",
       "<table border=\"1\" class=\"dataframe\">\n",
       "  <thead>\n",
       "    <tr style=\"text-align: right;\">\n",
       "      <th></th>\n",
       "      <th>Title</th>\n",
       "      <th>Year</th>\n",
       "      <th>Genres</th>\n",
       "      <th>Language</th>\n",
       "      <th>Country</th>\n",
       "      <th>Content Rating</th>\n",
       "      <th>Duration</th>\n",
       "      <th>Aspect Ratio</th>\n",
       "      <th>Budget</th>\n",
       "      <th>Gross Earnings</th>\n",
       "      <th>...</th>\n",
       "      <th>Facebook Likes - Actor 1</th>\n",
       "      <th>Facebook Likes - Actor 2</th>\n",
       "      <th>Facebook Likes - Actor 3</th>\n",
       "      <th>Facebook Likes - cast Total</th>\n",
       "      <th>Facebook likes - Movie</th>\n",
       "      <th>Facenumber in posters</th>\n",
       "      <th>User Votes</th>\n",
       "      <th>Reviews by Users</th>\n",
       "      <th>Reviews by Crtiics</th>\n",
       "      <th>IMDB Score</th>\n",
       "    </tr>\n",
       "  </thead>\n",
       "  <tbody>\n",
       "  </tbody>\n",
       "</table>\n",
       "<p>0 rows × 25 columns</p>\n",
       "</div>"
      ],
      "text/plain": [
       "Empty DataFrame\n",
       "Columns: [Title, Year, Genres, Language, Country, Content Rating, Duration, Aspect Ratio, Budget, Gross Earnings, Director, Actor 1, Actor 2, Actor 3, Facebook Likes - Director, Facebook Likes - Actor 1, Facebook Likes - Actor 2, Facebook Likes - Actor 3, Facebook Likes - cast Total, Facebook likes - Movie, Facenumber in posters, User Votes, Reviews by Users, Reviews by Crtiics, IMDB Score]\n",
       "Index: []\n",
       "\n",
       "[0 rows x 25 columns]"
      ]
     },
     "execution_count": 70,
     "metadata": {},
     "output_type": "execute_result"
    }
   ],
   "source": [
    "# check all titles are unique\n",
    "df_all['Title'].value_counts()\n",
    "df_all[df_all['Title'] == 'King Kong']"
   ]
  },
  {
   "cell_type": "code",
   "execution_count": null,
   "metadata": {},
   "outputs": [],
   "source": [
    "df_all['Year'] = df_all['Year'].astype('int64')"
   ]
  },
  {
   "cell_type": "code",
   "execution_count": null,
   "metadata": {},
   "outputs": [],
   "source": [
    "# check missing values (NaN)\n",
    "#df_all.isnull().sum()\n",
    "# change year into int"
   ]
  },
  {
   "cell_type": "markdown",
   "metadata": {},
   "source": [
    "### Potential interesting questions to look at\n",
    "- relationship between \n",
    "    - total facebook likes and IMDB score?\n",
    "    - number of faces in posters and IMDB score?\n",
    "    - between length of the movie and IMDB score?\n",
    "    - between number of user votes + number of reviews and IMDB score (assuming the number of votes and reviews indicate notoriety)? Will those with more votes/reviews have polarising IMDB scores (ie. have a bimodal distribution instead of a normal distribution)?\n",
    "    - between budget, gross earning and IMDB score?\n",
    "- number of films in each genre \n",
    "- relationship between genre and IMDB score\n",
    "\n"
   ]
  },
  {
   "cell_type": "markdown",
   "metadata": {},
   "source": [
    "### Assumptions and things to keep in mind\n",
    "- only using IMDB scores as a metric for popularity "
   ]
  },
  {
   "cell_type": "code",
   "execution_count": null,
   "metadata": {},
   "outputs": [],
   "source": []
  }
 ],
 "metadata": {
  "kernelspec": {
   "display_name": "Python 3",
   "language": "python",
   "name": "python3"
  },
  "language_info": {
   "codemirror_mode": {
    "name": "ipython",
    "version": 3
   },
   "file_extension": ".py",
   "mimetype": "text/x-python",
   "name": "python",
   "nbconvert_exporter": "python",
   "pygments_lexer": "ipython3",
   "version": "3.7.3"
  }
 },
 "nbformat": 4,
 "nbformat_minor": 2
}
